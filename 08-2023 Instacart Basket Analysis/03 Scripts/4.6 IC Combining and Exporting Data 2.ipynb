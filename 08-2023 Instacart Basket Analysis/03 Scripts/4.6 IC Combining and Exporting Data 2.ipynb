{
 "cells": [
  {
   "cell_type": "code",
   "execution_count": null,
   "id": "cdc2580a",
   "metadata": {},
   "outputs": [],
   "source": [
    "#D3-D4. Import the orders_products_combined dataframe from the pickle file. Check the shape of the imported dataframe.\n",
    "import pandas as pd\n",
    "import numpy as np\n",
    "import os  \n",
    "\n",
    "path= r'/Users/katep/08-2023 Instacart Basket Analysis'\n",
    "df_ords_prods_combined = pd.read_pickle(os.path.join(path, '02 Data', 'Prepared Data', 'orders_products_combined.pkl'))\n",
    "df_ords_prods_combined.shape"
   ]
  },
  {
   "cell_type": "code",
   "execution_count": 2,
   "id": "dbbd954c",
   "metadata": {},
   "outputs": [
    {
     "data": {
      "text/plain": [
       "32434489"
      ]
     },
     "execution_count": 2,
     "metadata": {},
     "output_type": "execute_result"
    }
   ],
   "source": [
    "len(df_ords_prods_combined)"
   ]
  },
  {
   "cell_type": "code",
   "execution_count": 3,
   "id": "51dcbab2",
   "metadata": {},
   "outputs": [
    {
     "data": {
      "text/plain": [
       "(49688, 6)"
      ]
     },
     "execution_count": 3,
     "metadata": {},
     "output_type": "execute_result"
    }
   ],
   "source": [
    "df_prods = pd.read_csv(os.path.join(path, '02 Data', 'Prepared Data', 'products_cleaned.csv'), index_col=False)\n",
    "df_prods.shape"
   ]
  },
  {
   "cell_type": "code",
   "execution_count": 7,
   "id": "dad40503",
   "metadata": {},
   "outputs": [
    {
     "data": {
      "text/plain": [
       "Index(['Unnamed: 0', 'product_id', 'product_name', 'aisle_id', 'department_id',\n",
       "       'prices'],\n",
       "      dtype='object')"
      ]
     },
     "execution_count": 7,
     "metadata": {},
     "output_type": "execute_result"
    }
   ],
   "source": [
    "df_prods.columns"
   ]
  },
  {
   "cell_type": "code",
   "execution_count": 2,
   "id": "2e96a370",
   "metadata": {},
   "outputs": [
    {
     "data": {
      "text/plain": [
       "Index(['Unnamed: 0', 'order_id', 'user_id', 'order_sequence',\n",
       "       'orders_day_of_week', 'order_hour_of_day', 'days_since_prior_order',\n",
       "       'product_id', 'add_to_cart_order', 'reordered'],\n",
       "      dtype='object')"
      ]
     },
     "execution_count": 2,
     "metadata": {},
     "output_type": "execute_result"
    }
   ],
   "source": [
    "df_ords_prods_combined.columns"
   ]
  },
  {
   "cell_type": "raw",
   "id": "e848c0f6",
   "metadata": {},
   "source": [
    "# D5. Combine the orders_products_combined dataframe with the cleaned products data set."
   ]
  },
  {
   "cell_type": "code",
   "execution_count": 4,
   "id": "55a9f229",
   "metadata": {},
   "outputs": [],
   "source": [
    "df_orders_products_merged= df_ords_prods_combined.merge(df_prods, on = 'product_id', how = 'inner')"
   ]
  },
  {
   "cell_type": "code",
   "execution_count": 5,
   "id": "84d4047e",
   "metadata": {},
   "outputs": [],
   "source": [
    "#D6.Confirm the results of the merge using the merge flag.\n",
    "df_orders_products_merged= df_ords_prods_combined.merge(df_prods, on = 'product_id', indicator = True)"
   ]
  },
  {
   "cell_type": "code",
   "execution_count": 6,
   "id": "551e14ef",
   "metadata": {},
   "outputs": [
    {
     "data": {
      "text/plain": [
       "(32433030, 16)"
      ]
     },
     "execution_count": 6,
     "metadata": {},
     "output_type": "execute_result"
    }
   ],
   "source": [
    "df_orders_products_merged.shape"
   ]
  },
  {
   "cell_type": "code",
   "execution_count": 7,
   "id": "87d4db04",
   "metadata": {},
   "outputs": [],
   "source": [
    "#D7.Export the newly created dataframe as orders_products_merged in a suitable format.\n",
    "df_orders_products_merged.to_pickle(os.path.join(path, '02 Data','Prepared Data', 'orders_products_merged.pkl'))"
   ]
  }
 ],
 "metadata": {
  "kernelspec": {
   "display_name": "Python 3 (ipykernel)",
   "language": "python",
   "name": "python3"
  },
  "language_info": {
   "codemirror_mode": {
    "name": "ipython",
    "version": 3
   },
   "file_extension": ".py",
   "mimetype": "text/x-python",
   "name": "python",
   "nbconvert_exporter": "python",
   "pygments_lexer": "ipython3",
   "version": "3.11.4"
  }
 },
 "nbformat": 4,
 "nbformat_minor": 5
}
