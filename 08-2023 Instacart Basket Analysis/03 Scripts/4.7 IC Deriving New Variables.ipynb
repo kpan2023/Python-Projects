{
 "cells": [
  {
   "cell_type": "markdown",
   "id": "c1beb2b1",
   "metadata": {},
   "source": [
    "#D1. Creating the price_label column."
   ]
  },
  {
   "cell_type": "code",
   "execution_count": 4,
   "id": "aa27262f",
   "metadata": {},
   "outputs": [
    {
     "data": {
      "text/plain": [
       "Index(['Unnamed: 0_x', 'order_id', 'user_id', 'order_sequence',\n",
       "       'orders_day_of_week', 'order_hour_of_day', 'days_since_prior_order',\n",
       "       'product_id', 'add_to_cart_order', 'reordered', 'Unnamed: 0_y',\n",
       "       'product_name', 'aisle_id', 'department_id', 'prices', '_merge'],\n",
       "      dtype='object')"
      ]
     },
     "execution_count": 4,
     "metadata": {},
     "output_type": "execute_result"
    }
   ],
   "source": [
    "#import df orders_products_merged \n",
    "import pandas as pd\n",
    "import numpy as np\n",
    "import os  \n",
    "\n",
    "path= r'/Users/katep/08-2023 Instacart Basket Analysis'\n",
    "df_ords_prods_merged = pd.read_pickle(os.path.join(path, '02 Data', 'Prepared Data', 'orders_products_merged.pkl'))\n",
    "\n",
    "df_ords_prods_merged.columns"
   ]
  },
  {
   "cell_type": "code",
   "execution_count": 7,
   "id": "03800d93",
   "metadata": {},
   "outputs": [],
   "source": [
    "#Create a new column 'price_range_loc' in df_ords_prods_merged\n",
    "df_ords_prods_merged.loc[df_ords_prods_merged['prices'] > 15, 'price_range'] = 'High-range product'\n",
    "df_ords_prods_merged.loc[(df_ords_prods_merged['prices'] <= 15) & (df_ords_prods_merged['prices'] > 5), 'price_range'] = 'Mid-range product' \n",
    "df_ords_prods_merged.loc[df_ords_prods_merged['prices'] <= 5, 'price_range'] = 'Low-range product'"
   ]
  },
  {
   "cell_type": "code",
   "execution_count": 8,
   "id": "8c539b18",
   "metadata": {},
   "outputs": [
    {
     "data": {
      "text/plain": [
       "price_range\n",
       "Mid-range product     21889009\n",
       "Low-range product     10126339\n",
       "High-range product      417682\n",
       "Name: count, dtype: int64"
      ]
     },
     "execution_count": 8,
     "metadata": {},
     "output_type": "execute_result"
    }
   ],
   "source": [
    "df_ords_prods_merged['price_range'].value_counts(dropna =False)"
   ]
  },
  {
   "cell_type": "markdown",
   "id": "2bff0c58",
   "metadata": {},
   "source": [
    "#D1. Creating the busiest_day column."
   ]
  },
  {
   "cell_type": "code",
   "execution_count": 9,
   "id": "94f780e8",
   "metadata": {},
   "outputs": [
    {
     "data": {
      "text/plain": [
       "orders_day_of_week\n",
       "0    6209410\n",
       "1    5665604\n",
       "6    4500101\n",
       "2    4217610\n",
       "5    4209334\n",
       "3    3843929\n",
       "4    3787042\n",
       "Name: count, dtype: int64"
      ]
     },
     "execution_count": 9,
     "metadata": {},
     "output_type": "execute_result"
    }
   ],
   "source": [
    "df_ords_prods_merged['orders_day_of_week'].value_counts(dropna =False)"
   ]
  },
  {
   "cell_type": "code",
   "execution_count": 12,
   "id": "7db8cd40",
   "metadata": {},
   "outputs": [],
   "source": [
    "result = []\n",
    "\n",
    "for value in df_ords_prods_merged[\"orders_day_of_week\"]:\n",
    "  if value == 0:\n",
    "    result.append(\"Busiest day\")\n",
    "  elif value == 4:\n",
    "    result.append(\"Least busy\")\n",
    "  else:\n",
    "    result.append(\"Regularly busy\")\n",
    "    "
   ]
  },
  {
   "cell_type": "code",
   "execution_count": 13,
   "id": "b39b34fc",
   "metadata": {},
   "outputs": [],
   "source": [
    "df_ords_prods_merged['busiest_day'] = result"
   ]
  },
  {
   "cell_type": "code",
   "execution_count": 14,
   "id": "9ce91e24",
   "metadata": {},
   "outputs": [
    {
     "data": {
      "text/plain": [
       "busiest_day\n",
       "Regularly busy    22436578\n",
       "Busiest day        6209410\n",
       "Least busy         3787042\n",
       "Name: count, dtype: int64"
      ]
     },
     "execution_count": 14,
     "metadata": {},
     "output_type": "execute_result"
    }
   ],
   "source": [
    "df_ords_prods_merged['busiest_day'].value_counts(dropna = False)"
   ]
  },
  {
   "cell_type": "markdown",
   "id": "4f16edbb",
   "metadata": {},
   "source": [
    "#D2. Create a column for 2 Busiest days and 2 slowest days."
   ]
  },
  {
   "cell_type": "code",
   "execution_count": 15,
   "id": "56202e69",
   "metadata": {},
   "outputs": [],
   "source": [
    "result2 = []\n",
    "\n",
    "for value in df_ords_prods_merged[\"orders_day_of_week\"]:\n",
    "  if (value == 0)or (value==1):\n",
    "    result2.append(\"Busiest days\")\n",
    "  elif (value == 3)or (value ==4):\n",
    "    result2.append(\"Slowest days\")\n",
    "  else:\n",
    "    result2.append(\"Regularly busy\")\n",
    "    "
   ]
  },
  {
   "cell_type": "code",
   "execution_count": 16,
   "id": "1f2cce64",
   "metadata": {},
   "outputs": [],
   "source": [
    "df_ords_prods_merged['Busiest_days'] = result2"
   ]
  },
  {
   "cell_type": "code",
   "execution_count": 17,
   "id": "0ba87eaa",
   "metadata": {},
   "outputs": [
    {
     "data": {
      "text/plain": [
       "Busiest_days\n",
       "Regularly busy    12927045\n",
       "Busiest days      11875014\n",
       "Slowest days       7630971\n",
       "Name: count, dtype: int64"
      ]
     },
     "execution_count": 17,
     "metadata": {},
     "output_type": "execute_result"
    }
   ],
   "source": [
    "#D3. Check the values in the new column.\n",
    "df_ords_prods_merged['Busiest_days'].value_counts(dropna = False)"
   ]
  },
  {
   "cell_type": "markdown",
   "id": "b2ed29b2",
   "metadata": {},
   "source": [
    "#D3. Busiest days  11875014 = orders_day_of_week (0, 6209410) + (1, 5665604)\n",
    "     Slowest days  7630971  = orders_day_of_week (3, 3843929) + (4, 3787042)"
   ]
  },
  {
   "cell_type": "code",
   "execution_count": 18,
   "id": "780360f4",
   "metadata": {},
   "outputs": [
    {
     "data": {
      "text/plain": [
       "Index(['Unnamed: 0_x', 'order_id', 'user_id', 'order_sequence',\n",
       "       'orders_day_of_week', 'order_hour_of_day', 'days_since_prior_order',\n",
       "       'product_id', 'add_to_cart_order', 'reordered', 'Unnamed: 0_y',\n",
       "       'product_name', 'aisle_id', 'department_id', 'prices', '_merge',\n",
       "       'price_range', 'busiest_day', 'Busiest_days'],\n",
       "      dtype='object')"
      ]
     },
     "execution_count": 18,
     "metadata": {},
     "output_type": "execute_result"
    }
   ],
   "source": [
    "df_ords_prods_merged.columns"
   ]
  },
  {
   "cell_type": "code",
   "execution_count": 19,
   "id": "48b3106b",
   "metadata": {
    "scrolled": true
   },
   "outputs": [
    {
     "data": {
      "text/plain": [
       "order_hour_of_day\n",
       "10    2764288\n",
       "11    2738483\n",
       "14    2691448\n",
       "15    2664420\n",
       "13    2663169\n",
       "12    2620719\n",
       "16    2537358\n",
       "9     2456591\n",
       "17    2089385\n",
       "8     1719888\n",
       "18    1637858\n",
       "19    1259335\n",
       "20     976991\n",
       "7      891900\n",
       "21     796341\n",
       "22     634715\n",
       "23     402593\n",
       "6      290763\n",
       "0      218925\n",
       "1      115780\n",
       "5       88054\n",
       "2       69429\n",
       "4       53280\n",
       "3       51317\n",
       "Name: count, dtype: int64"
      ]
     },
     "execution_count": 19,
     "metadata": {},
     "output_type": "execute_result"
    }
   ],
   "source": [
    "#Check the order frequency of the hour\n",
    "df_ords_prods_merged['order_hour_of_day'].value_counts(dropna =False)"
   ]
  },
  {
   "cell_type": "code",
   "execution_count": 19,
   "id": "454fb307",
   "metadata": {},
   "outputs": [],
   "source": [
    "#D4. Create a new column containing these labels called “busiest_period_of_day.”\n",
    "df_ords_prods_merged.loc[(df_ords_prods_merged['order_hour_of_day'] > 8)&(df_ords_prods_merged['order_hour_of_day'] < 17), 'busiest_period_of_day'] = 'Most orders'\n",
    "df_ords_prods_merged.loc[(df_ords_prods_merged['order_hour_of_day'] >= 17)&(df_ords_prods_merged['order_hour_of_day'] < 23), 'busiest_period_of_day'] = 'Average orders' \n",
    "df_ords_prods_merged.loc[(df_ords_prods_merged['order_hour_of_day'] >= 7)&(df_ords_prods_merged['order_hour_of_day'] < 9), 'busiest_period_of_day'] = 'Average orders' \n",
    "df_ords_prods_merged.loc[(df_ords_prods_merged['order_hour_of_day'] >= 0)&(df_ords_prods_merged['order_hour_of_day'] < 7), 'busiest_period_of_day'] = 'Fewest orders'\n",
    "df_ords_prods_merged.loc[df_ords_prods_merged['order_hour_of_day']==23, 'busiest_period_of_day'] = 'Fewest orders'\n"
   ]
  },
  {
   "cell_type": "code",
   "execution_count": 20,
   "id": "6fcc919b",
   "metadata": {},
   "outputs": [
    {
     "data": {
      "text/plain": [
       "busiest_period_of_day\n",
       "Most orders       21136476\n",
       "Average orders    10006413\n",
       "Fewest orders      1290141\n",
       "Name: count, dtype: int64"
      ]
     },
     "execution_count": 20,
     "metadata": {},
     "output_type": "execute_result"
    }
   ],
   "source": [
    "#D5. Print the frequency for this new column.\n",
    "df_ords_prods_merged['busiest_period_of_day'].value_counts(dropna =False)"
   ]
  },
  {
   "cell_type": "code",
   "execution_count": 21,
   "id": "8987cd51",
   "metadata": {},
   "outputs": [
    {
     "data": {
      "text/plain": [
       "Index(['Unnamed: 0_x', 'order_id', 'user_id', 'order_sequence',\n",
       "       'orders_day_of_week', 'order_hour_of_day', 'days_since_prior_order',\n",
       "       'product_id', 'add_to_cart_order', 'reordered', 'Unnamed: 0_y',\n",
       "       'product_name', 'aisle_id', 'department_id', 'prices', '_merge',\n",
       "       'price_range', 'busiest_day', 'Busiest_days', 'busiest_period_of_day'],\n",
       "      dtype='object')"
      ]
     },
     "execution_count": 21,
     "metadata": {},
     "output_type": "execute_result"
    }
   ],
   "source": [
    "df_ords_prods_merged.columns"
   ]
  },
  {
   "cell_type": "code",
   "execution_count": 22,
   "id": "1c7fb7c6",
   "metadata": {},
   "outputs": [],
   "source": [
    "#D7.Export the newly created dataframe as orders_products_merged2.\n",
    "df_ords_prods_merged.to_pickle(os.path.join(path, '02 Data','Prepared Data', 'orders_products_merged2.pkl'))"
   ]
  }
 ],
 "metadata": {
  "kernelspec": {
   "display_name": "Python 3 (ipykernel)",
   "language": "python",
   "name": "python3"
  },
  "language_info": {
   "codemirror_mode": {
    "name": "ipython",
    "version": 3
   },
   "file_extension": ".py",
   "mimetype": "text/x-python",
   "name": "python",
   "nbconvert_exporter": "python",
   "pygments_lexer": "ipython3",
   "version": "3.11.4"
  }
 },
 "nbformat": 4,
 "nbformat_minor": 5
}
