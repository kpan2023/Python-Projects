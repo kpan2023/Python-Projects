{
 "cells": [
  {
   "cell_type": "markdown",
   "id": "00bb4b52",
   "metadata": {},
   "source": [
    "#01. Importing libraries"
   ]
  },
  {
   "cell_type": "code",
   "execution_count": 1,
   "id": "4f01757b",
   "metadata": {},
   "outputs": [],
   "source": [
    "#Import Libraries\n",
    "import pandas as pd\n",
    "import numpy as np\n",
    "import os"
   ]
  },
  {
   "cell_type": "markdown",
   "id": "6f52db8f",
   "metadata": {},
   "source": [
    "#02. Data type"
   ]
  },
  {
   "cell_type": "code",
   "execution_count": 5,
   "id": "03762c7a",
   "metadata": {},
   "outputs": [
    {
     "name": "stdout",
     "output_type": "stream",
     "text": [
      "total= 100\n"
     ]
    }
   ],
   "source": [
    "#3 ways of reaching a result of 100\n",
    "x=20\n",
    "y=80\n",
    "print('total=', x+y)"
   ]
  },
  {
   "cell_type": "code",
   "execution_count": 6,
   "id": "9837fdce",
   "metadata": {},
   "outputs": [
    {
     "name": "stdout",
     "output_type": "stream",
     "text": [
      "total after subtraction= 100\n"
     ]
    }
   ],
   "source": [
    "x=150\n",
    "y=50\n",
    "print('total after subtraction=',x-y)"
   ]
  },
  {
   "cell_type": "code",
   "execution_count": 7,
   "id": "ec5ef86c",
   "metadata": {},
   "outputs": [
    {
     "name": "stdout",
     "output_type": "stream",
     "text": [
      "total of 3 variables= 100\n"
     ]
    }
   ],
   "source": [
    "x=-85\n",
    "y=130\n",
    "z=55\n",
    "print('total of 3 variables=', x+y+z)"
   ]
  },
  {
   "cell_type": "code",
   "execution_count": 17,
   "id": "e0d7f192",
   "metadata": {},
   "outputs": [
    {
     "name": "stdout",
     "output_type": "stream",
     "text": [
      "Divide s by t=  0.41304347826086957\n",
      "Divide t by s=  2.4210526315789473\n"
     ]
    }
   ],
   "source": [
    "# 2 floating-point variables\n",
    "s=3.8\n",
    "t=9.2\n",
    "print('Divide s by t= ', s/t)\n",
    "print('Divide t by s= ', t/s)"
   ]
  },
  {
   "cell_type": "code",
   "execution_count": 18,
   "id": "d389cbda",
   "metadata": {},
   "outputs": [
    {
     "name": "stdout",
     "output_type": "stream",
     "text": [
      "communicate\n"
     ]
    }
   ],
   "source": [
    "# Word by 2 strings\n",
    "s = 'commu'\n",
    "t = 'nicate'\n",
    "print(s+t) "
   ]
  },
  {
   "cell_type": "code",
   "execution_count": 21,
   "id": "d24e93fa",
   "metadata": {},
   "outputs": [
    {
     "name": "stdout",
     "output_type": "stream",
     "text": [
      "Hello, how are you? Fine, thank you.\n"
     ]
    }
   ],
   "source": [
    "# Construct 2 short sentences made of separate strings\n",
    "s = 'Hello,'\n",
    "t = ' how are you?'\n",
    "u = ' Fine,'\n",
    "v = ' thank you.'\n",
    "print(s+t+u+v)"
   ]
  },
  {
   "cell_type": "code",
   "execution_count": null,
   "id": "30744ea3",
   "metadata": {},
   "outputs": [],
   "source": []
  }
 ],
 "metadata": {
  "kernelspec": {
   "display_name": "Python 3 (ipykernel)",
   "language": "python",
   "name": "python3"
  },
  "language_info": {
   "codemirror_mode": {
    "name": "ipython",
    "version": 3
   },
   "file_extension": ".py",
   "mimetype": "text/x-python",
   "name": "python",
   "nbconvert_exporter": "python",
   "pygments_lexer": "ipython3",
   "version": "3.11.4"
  }
 },
 "nbformat": 4,
 "nbformat_minor": 5
}
